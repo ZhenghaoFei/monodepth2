{
 "cells": [
  {
   "cell_type": "code",
   "execution_count": 1,
   "metadata": {},
   "outputs": [],
   "source": [
    "from __future__ import absolute_import, division, print_function\n",
    "%matplotlib inline\n",
    "\n",
    "import os\n",
    "import glob\n",
    "import numpy as np\n",
    "import PIL.Image as pil\n",
    "import matplotlib.pyplot as plt\n",
    "from utils import *\n",
    "from options import MonodepthOptions\n",
    "\n",
    "\n",
    "%load_ext autoreload\n",
    "%autoreload 2"
   ]
  },
  {
   "cell_type": "code",
   "execution_count": 5,
   "metadata": {},
   "outputs": [
    {
     "name": "stdout",
     "output_type": "stream",
     "text": [
      "intrinsic: \n",
      " [[239.92654095   0.         204.22929592]\n",
      " [  0.         244.61533405  63.34630054]\n",
      " [  0.           0.           1.        ]]\n",
      "image size:  (416, 128)\n"
     ]
    }
   ],
   "source": [
    "intrinsic = np.loadtxt('/home/zhenghaofei/data/kitti/SfmLearner/2011_09_30_drive_0028_sync_03/cam.txt')\n",
    "print(\"intrinsic: \\n\", intrinsic)\n",
    "image_sample = pil.open('/home/zhenghaofei/data/kitti/SfmLearner/2011_09_30_drive_0028_sync_03/0000004314.jpg')\n",
    "print(\"image size: \", image_sample.size)"
   ]
  },
  {
   "cell_type": "code",
   "execution_count": 6,
   "metadata": {},
   "outputs": [
    {
     "data": {
      "text/plain": [
       "array([[0.57674649, 0.        , 0.49093581],\n",
       "       [0.        , 1.9110573 , 0.49489297],\n",
       "       [0.        , 0.        , 1.        ]])"
      ]
     },
     "execution_count": 6,
     "metadata": {},
     "output_type": "execute_result"
    }
   ],
   "source": [
    "intrinsic_normalized = intrinsic.copy()\n",
    "intrinsic_normalized[0, :] = intrinsic_normalized[0, :] / image_sample.size[0]\n",
    "intrinsic_normalized[1, :] = intrinsic_normalized[1, :] / image_sample.size[1]\n",
    "intrinsic_normalized"
   ]
  },
  {
   "cell_type": "code",
   "execution_count": 5,
   "metadata": {},
   "outputs": [],
   "source": [
    "split_save_path = '/home/zhenghaofei/code/monodepth2/splits/test_custom_data/'\n",
    "\n",
    "train_data_path = '/home/zhenghaofei/data/kitti/SfmLearner/2011_09_30_drive_0028_sync_03/'\n",
    "train_fielnames = glob.glob(os.path.join(train_data_path, '*.jpg'))\n",
    "train_fielnames.sort()\n",
    "\n",
    "\n",
    "\n",
    "val_data_path = '/home/zhenghaofei/data/kitti/SfmLearner/2011_09_30_drive_0028_sync_03/'\n",
    "val_fielnames = glob.glob(os.path.join(val_data_path, '*.jpg'))\n",
    "val_fielnames.sort()"
   ]
  },
  {
   "cell_type": "code",
   "execution_count": 16,
   "metadata": {},
   "outputs": [],
   "source": [
    "with open(os.path.join(split_save_path, 'train_files.txt'), 'w') as f:\n",
    "    for idx, train_file in enumerate(train_fielnames):\n",
    "        f.write(train_file + '\\n')\n",
    "\n",
    "with open(os.path.join(split_save_path, 'val_files.txt'), 'w') as f:\n",
    "    for idx, val_file in enumerate(val_filenames):\n",
    "        f.write(val_file + '\\n')\n"
   ]
  },
  {
   "cell_type": "code",
   "execution_count": null,
   "metadata": {},
   "outputs": [],
   "source": []
  },
  {
   "cell_type": "code",
   "execution_count": null,
   "metadata": {},
   "outputs": [],
   "source": []
  },
  {
   "cell_type": "code",
   "execution_count": 7,
   "metadata": {},
   "outputs": [],
   "source": [
    "import datasets\n",
    "crop_dataset = datasets.CropRAWDataset\n"
   ]
  },
  {
   "cell_type": "code",
   "execution_count": 8,
   "metadata": {},
   "outputs": [],
   "source": [
    "data_path = '/mnt/TempData/people/zhenghao/SfmLearner/mzg/train'\n",
    "train_filenames = glob.glob(os.path.join(data_path, \"*.jpg\"))\n",
    "train_filenames.sort()\n",
    "height = 128\n",
    "width = 416\n",
    "frame_ids = [0, -1, 1]\n",
    "img_ext = '.jpg'\n"
   ]
  },
  {
   "cell_type": "code",
   "execution_count": 9,
   "metadata": {},
   "outputs": [
    {
     "name": "stderr",
     "output_type": "stream",
     "text": [
      "/home/zhenghaofei/anaconda3/lib/python3.8/site-packages/torchvision/transforms/transforms.py:329: UserWarning: Argument 'interpolation' of type int is deprecated since 0.13 and will be removed in 0.15. Please use InterpolationMode enum.\n",
      "  warnings.warn(\n"
     ]
    }
   ],
   "source": [
    "\n",
    "train_dataset = crop_dataset(\n",
    "    data_path, train_filenames, height, width,\n",
    "    frame_ids, 4, is_train=True, img_ext=img_ext)"
   ]
  },
  {
   "cell_type": "code",
   "execution_count": null,
   "metadata": {},
   "outputs": [],
   "source": []
  },
  {
   "cell_type": "code",
   "execution_count": 11,
   "metadata": {},
   "outputs": [
    {
     "name": "stdout",
     "output_type": "stream",
     "text": [
      "line:  ['/mnt/TempData/people/zhenghao/SfmLearner/mzg/train/00000000.jpg']\n",
      "frame index:  0\n",
      "get_image_path folder /mnt/TempData/people/zhenghao/SfmLearner/mzg/train/00000000.jpg, frame_index 0, side None\n",
      "image_path:  /mnt/TempData/people/zhenghao/SfmLearner/mzg/train/00000000.jpg\n",
      "get_image_path folder /mnt/TempData/people/zhenghao/SfmLearner/mzg/train/00000000.jpg, frame_index -1, side None\n",
      "image_path:  /mnt/TempData/people/zhenghao/SfmLearner/mzg/train/00022995.jpg\n",
      "get_image_path folder /mnt/TempData/people/zhenghao/SfmLearner/mzg/train/00000000.jpg, frame_index 1, side None\n",
      "image_path:  /mnt/TempData/people/zhenghao/SfmLearner/mzg/train/00000005.jpg\n",
      "line:  ['/mnt/TempData/people/zhenghao/SfmLearner/mzg/train/00000005.jpg']\n",
      "frame index:  1\n",
      "get_image_path folder /mnt/TempData/people/zhenghao/SfmLearner/mzg/train/00000005.jpg, frame_index 1, side None\n",
      "image_path:  /mnt/TempData/people/zhenghao/SfmLearner/mzg/train/00000005.jpg\n",
      "get_image_path folder /mnt/TempData/people/zhenghao/SfmLearner/mzg/train/00000005.jpg, frame_index 0, side None\n",
      "image_path:  /mnt/TempData/people/zhenghao/SfmLearner/mzg/train/00000000.jpg\n",
      "get_image_path folder /mnt/TempData/people/zhenghao/SfmLearner/mzg/train/00000005.jpg, frame_index 2, side None\n",
      "image_path:  /mnt/TempData/people/zhenghao/SfmLearner/mzg/train/00000010.jpg\n",
      "line:  ['/mnt/TempData/people/zhenghao/SfmLearner/mzg/train/00000010.jpg']\n",
      "frame index:  2\n",
      "get_image_path folder /mnt/TempData/people/zhenghao/SfmLearner/mzg/train/00000010.jpg, frame_index 2, side None\n",
      "image_path:  /mnt/TempData/people/zhenghao/SfmLearner/mzg/train/00000010.jpg\n",
      "get_image_path folder /mnt/TempData/people/zhenghao/SfmLearner/mzg/train/00000010.jpg, frame_index 1, side None\n",
      "image_path:  /mnt/TempData/people/zhenghao/SfmLearner/mzg/train/00000005.jpg\n",
      "get_image_path folder /mnt/TempData/people/zhenghao/SfmLearner/mzg/train/00000010.jpg, frame_index 3, side None\n",
      "image_path:  /mnt/TempData/people/zhenghao/SfmLearner/mzg/train/00000015.jpg\n",
      "line:  ['/mnt/TempData/people/zhenghao/SfmLearner/mzg/train/00000015.jpg']\n",
      "frame index:  3\n",
      "get_image_path folder /mnt/TempData/people/zhenghao/SfmLearner/mzg/train/00000015.jpg, frame_index 3, side None\n",
      "image_path:  /mnt/TempData/people/zhenghao/SfmLearner/mzg/train/00000015.jpg\n",
      "get_image_path folder /mnt/TempData/people/zhenghao/SfmLearner/mzg/train/00000015.jpg, frame_index 2, side None\n",
      "image_path:  /mnt/TempData/people/zhenghao/SfmLearner/mzg/train/00000010.jpg\n",
      "get_image_path folder /mnt/TempData/people/zhenghao/SfmLearner/mzg/train/00000015.jpg, frame_index 4, side None\n",
      "image_path:  /mnt/TempData/people/zhenghao/SfmLearner/mzg/train/00000020.jpg\n",
      "line:  ['/mnt/TempData/people/zhenghao/SfmLearner/mzg/train/00000020.jpg']\n",
      "frame index:  4\n",
      "get_image_path folder /mnt/TempData/people/zhenghao/SfmLearner/mzg/train/00000020.jpg, frame_index 4, side None\n",
      "image_path:  /mnt/TempData/people/zhenghao/SfmLearner/mzg/train/00000020.jpg\n",
      "get_image_path folder /mnt/TempData/people/zhenghao/SfmLearner/mzg/train/00000020.jpg, frame_index 3, side None\n",
      "image_path:  /mnt/TempData/people/zhenghao/SfmLearner/mzg/train/00000015.jpg\n",
      "get_image_path folder /mnt/TempData/people/zhenghao/SfmLearner/mzg/train/00000020.jpg, frame_index 5, side None\n",
      "image_path:  /mnt/TempData/people/zhenghao/SfmLearner/mzg/train/00000025.jpg\n",
      "line:  ['/mnt/TempData/people/zhenghao/SfmLearner/mzg/train/00000025.jpg']\n",
      "frame index:  5\n",
      "get_image_path folder /mnt/TempData/people/zhenghao/SfmLearner/mzg/train/00000025.jpg, frame_index 5, side None\n",
      "image_path:  /mnt/TempData/people/zhenghao/SfmLearner/mzg/train/00000025.jpg\n",
      "get_image_path folder /mnt/TempData/people/zhenghao/SfmLearner/mzg/train/00000025.jpg, frame_index 4, side None\n",
      "image_path:  /mnt/TempData/people/zhenghao/SfmLearner/mzg/train/00000020.jpg\n",
      "get_image_path folder /mnt/TempData/people/zhenghao/SfmLearner/mzg/train/00000025.jpg, frame_index 6, side None\n",
      "image_path:  /mnt/TempData/people/zhenghao/SfmLearner/mzg/train/00000030.jpg\n",
      "line:  ['/mnt/TempData/people/zhenghao/SfmLearner/mzg/train/00000030.jpg']\n",
      "frame index:  6\n",
      "get_image_path folder /mnt/TempData/people/zhenghao/SfmLearner/mzg/train/00000030.jpg, frame_index 6, side None\n",
      "image_path:  /mnt/TempData/people/zhenghao/SfmLearner/mzg/train/00000030.jpg\n",
      "get_image_path folder /mnt/TempData/people/zhenghao/SfmLearner/mzg/train/00000030.jpg, frame_index 5, side None\n",
      "image_path:  /mnt/TempData/people/zhenghao/SfmLearner/mzg/train/00000025.jpg\n",
      "get_image_path folder /mnt/TempData/people/zhenghao/SfmLearner/mzg/train/00000030.jpg, frame_index 7, side None\n",
      "image_path:  /mnt/TempData/people/zhenghao/SfmLearner/mzg/train/00000035.jpg\n",
      "line:  ['/mnt/TempData/people/zhenghao/SfmLearner/mzg/train/00000035.jpg']\n",
      "frame index:  7\n",
      "get_image_path folder /mnt/TempData/people/zhenghao/SfmLearner/mzg/train/00000035.jpg, frame_index 7, side None\n",
      "image_path:  /mnt/TempData/people/zhenghao/SfmLearner/mzg/train/00000035.jpg\n",
      "get_image_path folder /mnt/TempData/people/zhenghao/SfmLearner/mzg/train/00000035.jpg, frame_index 6, side None\n",
      "image_path:  /mnt/TempData/people/zhenghao/SfmLearner/mzg/train/00000030.jpg\n",
      "get_image_path folder /mnt/TempData/people/zhenghao/SfmLearner/mzg/train/00000035.jpg, frame_index 8, side None\n",
      "image_path:  /mnt/TempData/people/zhenghao/SfmLearner/mzg/train/00000040.jpg\n",
      "line:  ['/mnt/TempData/people/zhenghao/SfmLearner/mzg/train/00000040.jpg']\n",
      "frame index:  8\n",
      "get_image_path folder /mnt/TempData/people/zhenghao/SfmLearner/mzg/train/00000040.jpg, frame_index 8, side None\n",
      "image_path:  /mnt/TempData/people/zhenghao/SfmLearner/mzg/train/00000040.jpg\n",
      "get_image_path folder /mnt/TempData/people/zhenghao/SfmLearner/mzg/train/00000040.jpg, frame_index 7, side None\n",
      "image_path:  /mnt/TempData/people/zhenghao/SfmLearner/mzg/train/00000035.jpg\n",
      "get_image_path folder /mnt/TempData/people/zhenghao/SfmLearner/mzg/train/00000040.jpg, frame_index 9, side None\n",
      "image_path:  /mnt/TempData/people/zhenghao/SfmLearner/mzg/train/00000045.jpg\n",
      "line:  ['/mnt/TempData/people/zhenghao/SfmLearner/mzg/train/00000045.jpg']\n",
      "frame index:  9\n",
      "get_image_path folder /mnt/TempData/people/zhenghao/SfmLearner/mzg/train/00000045.jpg, frame_index 9, side None\n",
      "image_path:  /mnt/TempData/people/zhenghao/SfmLearner/mzg/train/00000045.jpg\n",
      "get_image_path folder /mnt/TempData/people/zhenghao/SfmLearner/mzg/train/00000045.jpg, frame_index 8, side None\n",
      "image_path:  /mnt/TempData/people/zhenghao/SfmLearner/mzg/train/00000040.jpg\n",
      "get_image_path folder /mnt/TempData/people/zhenghao/SfmLearner/mzg/train/00000045.jpg, frame_index 10, side None\n",
      "image_path:  /mnt/TempData/people/zhenghao/SfmLearner/mzg/train/00000050.jpg\n",
      "line:  ['/mnt/TempData/people/zhenghao/SfmLearner/mzg/train/00000050.jpg']\n",
      "frame index:  10\n",
      "get_image_path folder /mnt/TempData/people/zhenghao/SfmLearner/mzg/train/00000050.jpg, frame_index 10, side None\n",
      "image_path:  /mnt/TempData/people/zhenghao/SfmLearner/mzg/train/00000050.jpg\n",
      "get_image_path folder /mnt/TempData/people/zhenghao/SfmLearner/mzg/train/00000050.jpg, frame_index 9, side None\n",
      "image_path:  /mnt/TempData/people/zhenghao/SfmLearner/mzg/train/00000045.jpg\n",
      "get_image_path folder /mnt/TempData/people/zhenghao/SfmLearner/mzg/train/00000050.jpg, frame_index 11, side None\n",
      "image_path:  /mnt/TempData/people/zhenghao/SfmLearner/mzg/train/00000055.jpg\n"
     ]
    }
   ],
   "source": [
    "i = 0\n",
    "for a in train_dataset:\n",
    "    i += 1\n",
    "    if i > 10:\n",
    "        break"
   ]
  },
  {
   "cell_type": "code",
   "execution_count": null,
   "metadata": {},
   "outputs": [],
   "source": []
  },
  {
   "attachments": {},
   "cell_type": "markdown",
   "metadata": {},
   "source": [
    "KITTI"
   ]
  },
  {
   "cell_type": "code",
   "execution_count": null,
   "metadata": {},
   "outputs": [],
   "source": []
  },
  {
   "cell_type": "code",
   "execution_count": 8,
   "metadata": {},
   "outputs": [],
   "source": [
    "fpath = os.path.join(\"/home/zhenghaofei/code/monodepth2/splits/eigen_zhou/{}_files.txt\")\n",
    "train_filenames = readlines(fpath.format(\"train\"))\n",
    "val_filenames = readlines(fpath.format(\"val\"))\n",
    "img_ext = '.png'\n",
    "data_path = \"/mnt/TempData/openDateset/KITTI/raw/unzip\"\n",
    "height = 192\n",
    "weight = 640"
   ]
  },
  {
   "cell_type": "code",
   "execution_count": 9,
   "metadata": {},
   "outputs": [],
   "source": [
    "kitti_dataset = datasets.KITTIRAWDataset\n",
    "train_dataset = kitti_dataset(\n",
    "    data_path, train_filenames, height, width,\n",
    "    frame_ids, 4, is_train=True, img_ext=img_ext)"
   ]
  },
  {
   "cell_type": "code",
   "execution_count": 15,
   "metadata": {},
   "outputs": [],
   "source": [
    "i = 0\n",
    "for a in train_dataset:\n",
    "    i += 1\n",
    "    if i > 10:\n",
    "        break"
   ]
  },
  {
   "cell_type": "code",
   "execution_count": null,
   "metadata": {},
   "outputs": [],
   "source": []
  },
  {
   "cell_type": "code",
   "execution_count": null,
   "metadata": {},
   "outputs": [],
   "source": []
  }
 ],
 "metadata": {
  "kernelspec": {
   "display_name": "base",
   "language": "python",
   "name": "python3"
  },
  "language_info": {
   "codemirror_mode": {
    "name": "ipython",
    "version": 3
   },
   "file_extension": ".py",
   "mimetype": "text/x-python",
   "name": "python",
   "nbconvert_exporter": "python",
   "pygments_lexer": "ipython3",
   "version": "3.8.8"
  },
  "orig_nbformat": 4,
  "vscode": {
   "interpreter": {
    "hash": "53c6d4e92224b2e84d24eef30cc9b0ac19ab6a9003369bec4f806158cc52a4ba"
   }
  }
 },
 "nbformat": 4,
 "nbformat_minor": 2
}
